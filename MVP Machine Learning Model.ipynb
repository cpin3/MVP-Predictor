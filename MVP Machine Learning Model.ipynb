{
 "cells": [
  {
   "cell_type": "code",
   "execution_count": 76,
   "id": "b2737643",
   "metadata": {},
   "outputs": [],
   "source": [
    "import pandas as pd"
   ]
  },
  {
   "cell_type": "code",
   "execution_count": 77,
   "id": "0d4302f8",
   "metadata": {},
   "outputs": [],
   "source": [
    "stats = pd.read_csv(\"player_mvp_stats.csv\")"
   ]
  },
  {
   "cell_type": "code",
   "execution_count": null,
   "id": "777587fd",
   "metadata": {},
   "outputs": [],
   "source": []
  },
  {
   "cell_type": "code",
   "execution_count": 78,
   "id": "e3cb448d",
   "metadata": {},
   "outputs": [],
   "source": [
    "del stats[\"Unnamed: 0\"]"
   ]
  },
  {
   "cell_type": "code",
   "execution_count": 79,
   "id": "f179dae6",
   "metadata": {},
   "outputs": [
    {
     "data": {
      "text/plain": [
       "Rk            0\n",
       "Player        0\n",
       "Pos           0\n",
       "Age           0\n",
       "Tm            0\n",
       "G             0\n",
       "GS            0\n",
       "MP            0\n",
       "FG            0\n",
       "FGA           0\n",
       "FG%          49\n",
       "3P            0\n",
       "3PA           0\n",
       "3P%        2023\n",
       "2P            0\n",
       "2PA           0\n",
       "2P%          79\n",
       "eFG%         49\n",
       "FT            0\n",
       "FTA           0\n",
       "FT%         444\n",
       "ORB           0\n",
       "DRB           0\n",
       "TRB           0\n",
       "AST           0\n",
       "STL           0\n",
       "BLK           0\n",
       "TOV           0\n",
       "PF            0\n",
       "PTS           0\n",
       "Year          0\n",
       "Pts Won       0\n",
       "Pts Max       0\n",
       "Share         0\n",
       "Team          0\n",
       "W             0\n",
       "L             0\n",
       "W/L%          0\n",
       "GB            0\n",
       "PS/G          0\n",
       "PA/G          0\n",
       "SRS           0\n",
       "dtype: int64"
      ]
     },
     "execution_count": 79,
     "metadata": {},
     "output_type": "execute_result"
    }
   ],
   "source": [
    "pd.isnull(stats).sum()"
   ]
  },
  {
   "cell_type": "code",
   "execution_count": 80,
   "id": "79ae7ff7",
   "metadata": {},
   "outputs": [],
   "source": [
    "stats = stats.fillna(0)"
   ]
  },
  {
   "cell_type": "code",
   "execution_count": 81,
   "id": "01b0eb62",
   "metadata": {},
   "outputs": [
    {
     "data": {
      "text/plain": [
       "Index(['Rk', 'Player', 'Pos', 'Age', 'Tm', 'G', 'GS', 'MP', 'FG', 'FGA', 'FG%',\n",
       "       '3P', '3PA', '3P%', '2P', '2PA', '2P%', 'eFG%', 'FT', 'FTA', 'FT%',\n",
       "       'ORB', 'DRB', 'TRB', 'AST', 'STL', 'BLK', 'TOV', 'PF', 'PTS', 'Year',\n",
       "       'Pts Won', 'Pts Max', 'Share', 'Team', 'W', 'L', 'W/L%', 'GB', 'PS/G',\n",
       "       'PA/G', 'SRS'],\n",
       "      dtype='object')"
      ]
     },
     "execution_count": 81,
     "metadata": {},
     "output_type": "execute_result"
    }
   ],
   "source": [
    "stats.columns"
   ]
  },
  {
   "cell_type": "code",
   "execution_count": 82,
   "id": "56ecb9d0",
   "metadata": {},
   "outputs": [],
   "source": [
    "predictors = ['Age','G', 'GS', 'MP', 'FG', 'FGA', 'FG%',\n",
    "       '3P', '3PA', '3P%', '2P', '2PA', '2P%', 'eFG%', 'FT', 'FTA', 'FT%',\n",
    "       'ORB', 'DRB', 'TRB', 'AST', 'STL', 'BLK', 'TOV', 'PF', 'PTS', 'Year',\n",
    "       'W', 'L', 'W/L%', 'GB', 'PS/G',\n",
    "       'PA/G', 'SRS']"
   ]
  },
  {
   "cell_type": "code",
   "execution_count": 83,
   "id": "2a1b1b09",
   "metadata": {},
   "outputs": [],
   "source": [
    "train = stats[stats[\"Year\"] < 2020]"
   ]
  },
  {
   "cell_type": "code",
   "execution_count": 84,
   "id": "1cf195a3",
   "metadata": {},
   "outputs": [],
   "source": [
    "test = stats[stats[\"Year\"] == 2020]"
   ]
  },
  {
   "cell_type": "code",
   "execution_count": 85,
   "id": "2471aba0",
   "metadata": {},
   "outputs": [],
   "source": [
    "from sklearn.linear_model import Ridge\n",
    "\n",
    "reg = Ridge(alpha=.1)"
   ]
  },
  {
   "cell_type": "code",
   "execution_count": 86,
   "id": "77abdbb1",
   "metadata": {
    "scrolled": true
   },
   "outputs": [
    {
     "data": {
      "text/plain": [
       "Ridge(alpha=0.1)"
      ]
     },
     "execution_count": 86,
     "metadata": {},
     "output_type": "execute_result"
    }
   ],
   "source": [
    "reg.fit(train[predictors], train[\"Share\"])"
   ]
  },
  {
   "cell_type": "code",
   "execution_count": 87,
   "id": "77053086",
   "metadata": {},
   "outputs": [],
   "source": [
    "predictions = reg.predict(test[predictors])"
   ]
  },
  {
   "cell_type": "code",
   "execution_count": 88,
   "id": "23724e6d",
   "metadata": {},
   "outputs": [],
   "source": [
    "predictions = pd.DataFrame(predictions, columns=[\"predictions\"], index=test.index)"
   ]
  },
  {
   "cell_type": "code",
   "execution_count": 89,
   "id": "1da57255",
   "metadata": {},
   "outputs": [
    {
     "data": {
      "text/html": [
       "<div>\n",
       "<style scoped>\n",
       "    .dataframe tbody tr th:only-of-type {\n",
       "        vertical-align: middle;\n",
       "    }\n",
       "\n",
       "    .dataframe tbody tr th {\n",
       "        vertical-align: top;\n",
       "    }\n",
       "\n",
       "    .dataframe thead th {\n",
       "        text-align: right;\n",
       "    }\n",
       "</style>\n",
       "<table border=\"1\" class=\"dataframe\">\n",
       "  <thead>\n",
       "    <tr style=\"text-align: right;\">\n",
       "      <th></th>\n",
       "      <th>predictions</th>\n",
       "    </tr>\n",
       "  </thead>\n",
       "  <tbody>\n",
       "    <tr>\n",
       "      <th>611</th>\n",
       "      <td>0.020689</td>\n",
       "    </tr>\n",
       "    <tr>\n",
       "      <th>612</th>\n",
       "      <td>-0.028052</td>\n",
       "    </tr>\n",
       "    <tr>\n",
       "      <th>613</th>\n",
       "      <td>0.000923</td>\n",
       "    </tr>\n",
       "    <tr>\n",
       "      <th>614</th>\n",
       "      <td>-0.014191</td>\n",
       "    </tr>\n",
       "    <tr>\n",
       "      <th>615</th>\n",
       "      <td>0.008199</td>\n",
       "    </tr>\n",
       "    <tr>\n",
       "      <th>...</th>\n",
       "      <td>...</td>\n",
       "    </tr>\n",
       "    <tr>\n",
       "      <th>12554</th>\n",
       "      <td>0.004809</td>\n",
       "    </tr>\n",
       "    <tr>\n",
       "      <th>12555</th>\n",
       "      <td>0.037983</td>\n",
       "    </tr>\n",
       "    <tr>\n",
       "      <th>12556</th>\n",
       "      <td>0.007636</td>\n",
       "    </tr>\n",
       "    <tr>\n",
       "      <th>12557</th>\n",
       "      <td>0.009623</td>\n",
       "    </tr>\n",
       "    <tr>\n",
       "      <th>12558</th>\n",
       "      <td>0.009548</td>\n",
       "    </tr>\n",
       "  </tbody>\n",
       "</table>\n",
       "<p>529 rows × 1 columns</p>\n",
       "</div>"
      ],
      "text/plain": [
       "       predictions\n",
       "611       0.020689\n",
       "612      -0.028052\n",
       "613       0.000923\n",
       "614      -0.014191\n",
       "615       0.008199\n",
       "...            ...\n",
       "12554     0.004809\n",
       "12555     0.037983\n",
       "12556     0.007636\n",
       "12557     0.009623\n",
       "12558     0.009548\n",
       "\n",
       "[529 rows x 1 columns]"
      ]
     },
     "execution_count": 89,
     "metadata": {},
     "output_type": "execute_result"
    }
   ],
   "source": [
    "predictions"
   ]
  },
  {
   "cell_type": "code",
   "execution_count": 90,
   "id": "a4bcff96",
   "metadata": {},
   "outputs": [],
   "source": [
    "combination = pd.concat([test[[\"Player\", \"Share\"]], predictions],axis=1)"
   ]
  },
  {
   "cell_type": "code",
   "execution_count": 91,
   "id": "8a1d3f6c",
   "metadata": {},
   "outputs": [
    {
     "data": {
      "text/html": [
       "<div>\n",
       "<style scoped>\n",
       "    .dataframe tbody tr th:only-of-type {\n",
       "        vertical-align: middle;\n",
       "    }\n",
       "\n",
       "    .dataframe tbody tr th {\n",
       "        vertical-align: top;\n",
       "    }\n",
       "\n",
       "    .dataframe thead th {\n",
       "        text-align: right;\n",
       "    }\n",
       "</style>\n",
       "<table border=\"1\" class=\"dataframe\">\n",
       "  <thead>\n",
       "    <tr style=\"text-align: right;\">\n",
       "      <th></th>\n",
       "      <th>Player</th>\n",
       "      <th>Share</th>\n",
       "      <th>predictions</th>\n",
       "    </tr>\n",
       "  </thead>\n",
       "  <tbody>\n",
       "    <tr>\n",
       "      <th>611</th>\n",
       "      <td>Aaron Gordon</td>\n",
       "      <td>0.0</td>\n",
       "      <td>0.020689</td>\n",
       "    </tr>\n",
       "    <tr>\n",
       "      <th>612</th>\n",
       "      <td>Al-Farouq Aminu</td>\n",
       "      <td>0.0</td>\n",
       "      <td>-0.028052</td>\n",
       "    </tr>\n",
       "    <tr>\n",
       "      <th>613</th>\n",
       "      <td>Amile Jefferson</td>\n",
       "      <td>0.0</td>\n",
       "      <td>0.000923</td>\n",
       "    </tr>\n",
       "    <tr>\n",
       "      <th>614</th>\n",
       "      <td>B.J. Johnson</td>\n",
       "      <td>0.0</td>\n",
       "      <td>-0.014191</td>\n",
       "    </tr>\n",
       "    <tr>\n",
       "      <th>615</th>\n",
       "      <td>D.J. Augustin</td>\n",
       "      <td>0.0</td>\n",
       "      <td>0.008199</td>\n",
       "    </tr>\n",
       "    <tr>\n",
       "      <th>...</th>\n",
       "      <td>...</td>\n",
       "      <td>...</td>\n",
       "      <td>...</td>\n",
       "    </tr>\n",
       "    <tr>\n",
       "      <th>12554</th>\n",
       "      <td>Rondae Hollis-Jefferson</td>\n",
       "      <td>0.0</td>\n",
       "      <td>0.004809</td>\n",
       "    </tr>\n",
       "    <tr>\n",
       "      <th>12555</th>\n",
       "      <td>Serge Ibaka</td>\n",
       "      <td>0.0</td>\n",
       "      <td>0.037983</td>\n",
       "    </tr>\n",
       "    <tr>\n",
       "      <th>12556</th>\n",
       "      <td>Shamorie Ponds</td>\n",
       "      <td>0.0</td>\n",
       "      <td>0.007636</td>\n",
       "    </tr>\n",
       "    <tr>\n",
       "      <th>12557</th>\n",
       "      <td>Stanley Johnson</td>\n",
       "      <td>0.0</td>\n",
       "      <td>0.009623</td>\n",
       "    </tr>\n",
       "    <tr>\n",
       "      <th>12558</th>\n",
       "      <td>Terence Davis</td>\n",
       "      <td>0.0</td>\n",
       "      <td>0.009548</td>\n",
       "    </tr>\n",
       "  </tbody>\n",
       "</table>\n",
       "<p>529 rows × 3 columns</p>\n",
       "</div>"
      ],
      "text/plain": [
       "                        Player  Share  predictions\n",
       "611               Aaron Gordon    0.0     0.020689\n",
       "612            Al-Farouq Aminu    0.0    -0.028052\n",
       "613            Amile Jefferson    0.0     0.000923\n",
       "614               B.J. Johnson    0.0    -0.014191\n",
       "615              D.J. Augustin    0.0     0.008199\n",
       "...                        ...    ...          ...\n",
       "12554  Rondae Hollis-Jefferson    0.0     0.004809\n",
       "12555              Serge Ibaka    0.0     0.037983\n",
       "12556           Shamorie Ponds    0.0     0.007636\n",
       "12557          Stanley Johnson    0.0     0.009623\n",
       "12558            Terence Davis    0.0     0.009548\n",
       "\n",
       "[529 rows x 3 columns]"
      ]
     },
     "execution_count": 91,
     "metadata": {},
     "output_type": "execute_result"
    }
   ],
   "source": [
    "combination"
   ]
  },
  {
   "cell_type": "code",
   "execution_count": 92,
   "id": "2c784906",
   "metadata": {},
   "outputs": [
    {
     "data": {
      "text/html": [
       "<div>\n",
       "<style scoped>\n",
       "    .dataframe tbody tr th:only-of-type {\n",
       "        vertical-align: middle;\n",
       "    }\n",
       "\n",
       "    .dataframe tbody tr th {\n",
       "        vertical-align: top;\n",
       "    }\n",
       "\n",
       "    .dataframe thead th {\n",
       "        text-align: right;\n",
       "    }\n",
       "</style>\n",
       "<table border=\"1\" class=\"dataframe\">\n",
       "  <thead>\n",
       "    <tr style=\"text-align: right;\">\n",
       "      <th></th>\n",
       "      <th>Player</th>\n",
       "      <th>Share</th>\n",
       "      <th>predictions</th>\n",
       "    </tr>\n",
       "  </thead>\n",
       "  <tbody>\n",
       "    <tr>\n",
       "      <th>11848</th>\n",
       "      <td>Giannis Antetokounmpo</td>\n",
       "      <td>0.952</td>\n",
       "      <td>0.239042</td>\n",
       "    </tr>\n",
       "    <tr>\n",
       "      <th>3581</th>\n",
       "      <td>LeBron James</td>\n",
       "      <td>0.746</td>\n",
       "      <td>0.161240</td>\n",
       "    </tr>\n",
       "    <tr>\n",
       "      <th>9307</th>\n",
       "      <td>James Harden</td>\n",
       "      <td>0.363</td>\n",
       "      <td>0.187201</td>\n",
       "    </tr>\n",
       "    <tr>\n",
       "      <th>8954</th>\n",
       "      <td>Luka Dončić</td>\n",
       "      <td>0.198</td>\n",
       "      <td>0.168907</td>\n",
       "    </tr>\n",
       "    <tr>\n",
       "      <th>5116</th>\n",
       "      <td>Kawhi Leonard</td>\n",
       "      <td>0.166</td>\n",
       "      <td>0.131559</td>\n",
       "    </tr>\n",
       "    <tr>\n",
       "      <th>3569</th>\n",
       "      <td>Anthony Davis</td>\n",
       "      <td>0.081</td>\n",
       "      <td>0.144882</td>\n",
       "    </tr>\n",
       "    <tr>\n",
       "      <th>1316</th>\n",
       "      <td>Chris Paul</td>\n",
       "      <td>0.026</td>\n",
       "      <td>0.079222</td>\n",
       "    </tr>\n",
       "    <tr>\n",
       "      <th>7195</th>\n",
       "      <td>Damian Lillard</td>\n",
       "      <td>0.023</td>\n",
       "      <td>0.132910</td>\n",
       "    </tr>\n",
       "    <tr>\n",
       "      <th>10938</th>\n",
       "      <td>Nikola Jokić</td>\n",
       "      <td>0.018</td>\n",
       "      <td>0.102292</td>\n",
       "    </tr>\n",
       "    <tr>\n",
       "      <th>12551</th>\n",
       "      <td>Pascal Siakam</td>\n",
       "      <td>0.017</td>\n",
       "      <td>0.077603</td>\n",
       "    </tr>\n",
       "  </tbody>\n",
       "</table>\n",
       "</div>"
      ],
      "text/plain": [
       "                      Player  Share  predictions\n",
       "11848  Giannis Antetokounmpo  0.952     0.239042\n",
       "3581            LeBron James  0.746     0.161240\n",
       "9307            James Harden  0.363     0.187201\n",
       "8954             Luka Dončić  0.198     0.168907\n",
       "5116           Kawhi Leonard  0.166     0.131559\n",
       "3569           Anthony Davis  0.081     0.144882\n",
       "1316              Chris Paul  0.026     0.079222\n",
       "7195          Damian Lillard  0.023     0.132910\n",
       "10938           Nikola Jokić  0.018     0.102292\n",
       "12551          Pascal Siakam  0.017     0.077603"
      ]
     },
     "execution_count": 92,
     "metadata": {},
     "output_type": "execute_result"
    }
   ],
   "source": [
    "combination.sort_values(\"Share\", ascending=False).head(10)"
   ]
  },
  {
   "cell_type": "code",
   "execution_count": 93,
   "id": "4d7882ef",
   "metadata": {},
   "outputs": [
    {
     "data": {
      "text/plain": [
       "0.0025247880923921474"
      ]
     },
     "execution_count": 93,
     "metadata": {},
     "output_type": "execute_result"
    }
   ],
   "source": [
    "from sklearn.metrics import mean_squared_error\n",
    "\n",
    "mean_squared_error(combination[\"Share\"],combination[\"predictions\"])"
   ]
  },
  {
   "cell_type": "code",
   "execution_count": 94,
   "id": "85d0097d",
   "metadata": {},
   "outputs": [
    {
     "data": {
      "text/plain": [
       "0.000    517\n",
       "0.026      1\n",
       "0.081      1\n",
       "0.746      1\n",
       "0.166      1\n",
       "0.009      1\n",
       "0.023      1\n",
       "0.198      1\n",
       "0.363      1\n",
       "0.018      1\n",
       "0.001      1\n",
       "0.952      1\n",
       "0.017      1\n",
       "Name: Share, dtype: int64"
      ]
     },
     "execution_count": 94,
     "metadata": {},
     "output_type": "execute_result"
    }
   ],
   "source": [
    "combination['Share'].value_counts()"
   ]
  },
  {
   "cell_type": "code",
   "execution_count": 95,
   "id": "875851eb",
   "metadata": {},
   "outputs": [],
   "source": [
    "combination = combination.sort_values('Share',ascending=False)\n",
    "combination['Rk'] = list(range(1,combination.shape[0]+1))"
   ]
  },
  {
   "cell_type": "code",
   "execution_count": 96,
   "id": "3532079f",
   "metadata": {},
   "outputs": [
    {
     "data": {
      "text/html": [
       "<div>\n",
       "<style scoped>\n",
       "    .dataframe tbody tr th:only-of-type {\n",
       "        vertical-align: middle;\n",
       "    }\n",
       "\n",
       "    .dataframe tbody tr th {\n",
       "        vertical-align: top;\n",
       "    }\n",
       "\n",
       "    .dataframe thead th {\n",
       "        text-align: right;\n",
       "    }\n",
       "</style>\n",
       "<table border=\"1\" class=\"dataframe\">\n",
       "  <thead>\n",
       "    <tr style=\"text-align: right;\">\n",
       "      <th></th>\n",
       "      <th>Player</th>\n",
       "      <th>Share</th>\n",
       "      <th>predictions</th>\n",
       "      <th>Rk</th>\n",
       "    </tr>\n",
       "  </thead>\n",
       "  <tbody>\n",
       "    <tr>\n",
       "      <th>11848</th>\n",
       "      <td>Giannis Antetokounmpo</td>\n",
       "      <td>0.952</td>\n",
       "      <td>0.239042</td>\n",
       "      <td>1</td>\n",
       "    </tr>\n",
       "    <tr>\n",
       "      <th>3581</th>\n",
       "      <td>LeBron James</td>\n",
       "      <td>0.746</td>\n",
       "      <td>0.161240</td>\n",
       "      <td>2</td>\n",
       "    </tr>\n",
       "    <tr>\n",
       "      <th>9307</th>\n",
       "      <td>James Harden</td>\n",
       "      <td>0.363</td>\n",
       "      <td>0.187201</td>\n",
       "      <td>3</td>\n",
       "    </tr>\n",
       "    <tr>\n",
       "      <th>8954</th>\n",
       "      <td>Luka Dončić</td>\n",
       "      <td>0.198</td>\n",
       "      <td>0.168907</td>\n",
       "      <td>4</td>\n",
       "    </tr>\n",
       "    <tr>\n",
       "      <th>5116</th>\n",
       "      <td>Kawhi Leonard</td>\n",
       "      <td>0.166</td>\n",
       "      <td>0.131559</td>\n",
       "      <td>5</td>\n",
       "    </tr>\n",
       "    <tr>\n",
       "      <th>3569</th>\n",
       "      <td>Anthony Davis</td>\n",
       "      <td>0.081</td>\n",
       "      <td>0.144882</td>\n",
       "      <td>6</td>\n",
       "    </tr>\n",
       "    <tr>\n",
       "      <th>1316</th>\n",
       "      <td>Chris Paul</td>\n",
       "      <td>0.026</td>\n",
       "      <td>0.079222</td>\n",
       "      <td>7</td>\n",
       "    </tr>\n",
       "    <tr>\n",
       "      <th>7195</th>\n",
       "      <td>Damian Lillard</td>\n",
       "      <td>0.023</td>\n",
       "      <td>0.132910</td>\n",
       "      <td>8</td>\n",
       "    </tr>\n",
       "    <tr>\n",
       "      <th>10938</th>\n",
       "      <td>Nikola Jokić</td>\n",
       "      <td>0.018</td>\n",
       "      <td>0.102292</td>\n",
       "      <td>9</td>\n",
       "    </tr>\n",
       "    <tr>\n",
       "      <th>12551</th>\n",
       "      <td>Pascal Siakam</td>\n",
       "      <td>0.017</td>\n",
       "      <td>0.077603</td>\n",
       "      <td>10</td>\n",
       "    </tr>\n",
       "  </tbody>\n",
       "</table>\n",
       "</div>"
      ],
      "text/plain": [
       "                      Player  Share  predictions  Rk\n",
       "11848  Giannis Antetokounmpo  0.952     0.239042   1\n",
       "3581            LeBron James  0.746     0.161240   2\n",
       "9307            James Harden  0.363     0.187201   3\n",
       "8954             Luka Dončić  0.198     0.168907   4\n",
       "5116           Kawhi Leonard  0.166     0.131559   5\n",
       "3569           Anthony Davis  0.081     0.144882   6\n",
       "1316              Chris Paul  0.026     0.079222   7\n",
       "7195          Damian Lillard  0.023     0.132910   8\n",
       "10938           Nikola Jokić  0.018     0.102292   9\n",
       "12551          Pascal Siakam  0.017     0.077603  10"
      ]
     },
     "execution_count": 96,
     "metadata": {},
     "output_type": "execute_result"
    }
   ],
   "source": [
    "combination.head(10)"
   ]
  },
  {
   "cell_type": "code",
   "execution_count": 97,
   "id": "1c248c02",
   "metadata": {},
   "outputs": [],
   "source": [
    "combination = combination.sort_values('predictions',ascending=False)\n",
    "combination['Predicted_Rk'] = list(range(1,combination.shape[0]+1))"
   ]
  },
  {
   "cell_type": "code",
   "execution_count": 98,
   "id": "2024ab24",
   "metadata": {},
   "outputs": [
    {
     "data": {
      "text/html": [
       "<div>\n",
       "<style scoped>\n",
       "    .dataframe tbody tr th:only-of-type {\n",
       "        vertical-align: middle;\n",
       "    }\n",
       "\n",
       "    .dataframe tbody tr th {\n",
       "        vertical-align: top;\n",
       "    }\n",
       "\n",
       "    .dataframe thead th {\n",
       "        text-align: right;\n",
       "    }\n",
       "</style>\n",
       "<table border=\"1\" class=\"dataframe\">\n",
       "  <thead>\n",
       "    <tr style=\"text-align: right;\">\n",
       "      <th></th>\n",
       "      <th>Player</th>\n",
       "      <th>Share</th>\n",
       "      <th>predictions</th>\n",
       "      <th>Rk</th>\n",
       "      <th>Predicted_Rk</th>\n",
       "    </tr>\n",
       "  </thead>\n",
       "  <tbody>\n",
       "    <tr>\n",
       "      <th>11848</th>\n",
       "      <td>Giannis Antetokounmpo</td>\n",
       "      <td>0.952</td>\n",
       "      <td>0.239042</td>\n",
       "      <td>1</td>\n",
       "      <td>1</td>\n",
       "    </tr>\n",
       "    <tr>\n",
       "      <th>9307</th>\n",
       "      <td>James Harden</td>\n",
       "      <td>0.363</td>\n",
       "      <td>0.187201</td>\n",
       "      <td>3</td>\n",
       "      <td>2</td>\n",
       "    </tr>\n",
       "    <tr>\n",
       "      <th>8954</th>\n",
       "      <td>Luka Dončić</td>\n",
       "      <td>0.198</td>\n",
       "      <td>0.168907</td>\n",
       "      <td>4</td>\n",
       "      <td>3</td>\n",
       "    </tr>\n",
       "    <tr>\n",
       "      <th>3581</th>\n",
       "      <td>LeBron James</td>\n",
       "      <td>0.746</td>\n",
       "      <td>0.161240</td>\n",
       "      <td>2</td>\n",
       "      <td>4</td>\n",
       "    </tr>\n",
       "    <tr>\n",
       "      <th>3569</th>\n",
       "      <td>Anthony Davis</td>\n",
       "      <td>0.081</td>\n",
       "      <td>0.144882</td>\n",
       "      <td>6</td>\n",
       "      <td>5</td>\n",
       "    </tr>\n",
       "    <tr>\n",
       "      <th>7195</th>\n",
       "      <td>Damian Lillard</td>\n",
       "      <td>0.023</td>\n",
       "      <td>0.132910</td>\n",
       "      <td>8</td>\n",
       "      <td>6</td>\n",
       "    </tr>\n",
       "    <tr>\n",
       "      <th>5116</th>\n",
       "      <td>Kawhi Leonard</td>\n",
       "      <td>0.166</td>\n",
       "      <td>0.131559</td>\n",
       "      <td>5</td>\n",
       "      <td>7</td>\n",
       "    </tr>\n",
       "    <tr>\n",
       "      <th>2480</th>\n",
       "      <td>Joel Embiid</td>\n",
       "      <td>0.000</td>\n",
       "      <td>0.124611</td>\n",
       "      <td>300</td>\n",
       "      <td>8</td>\n",
       "    </tr>\n",
       "    <tr>\n",
       "      <th>4226</th>\n",
       "      <td>Karl-Anthony Towns</td>\n",
       "      <td>0.000</td>\n",
       "      <td>0.123287</td>\n",
       "      <td>508</td>\n",
       "      <td>9</td>\n",
       "    </tr>\n",
       "    <tr>\n",
       "      <th>11268</th>\n",
       "      <td>Trae Young</td>\n",
       "      <td>0.000</td>\n",
       "      <td>0.118689</td>\n",
       "      <td>265</td>\n",
       "      <td>10</td>\n",
       "    </tr>\n",
       "  </tbody>\n",
       "</table>\n",
       "</div>"
      ],
      "text/plain": [
       "                      Player  Share  predictions   Rk  Predicted_Rk\n",
       "11848  Giannis Antetokounmpo  0.952     0.239042    1             1\n",
       "9307            James Harden  0.363     0.187201    3             2\n",
       "8954             Luka Dončić  0.198     0.168907    4             3\n",
       "3581            LeBron James  0.746     0.161240    2             4\n",
       "3569           Anthony Davis  0.081     0.144882    6             5\n",
       "7195          Damian Lillard  0.023     0.132910    8             6\n",
       "5116           Kawhi Leonard  0.166     0.131559    5             7\n",
       "2480             Joel Embiid  0.000     0.124611  300             8\n",
       "4226      Karl-Anthony Towns  0.000     0.123287  508             9\n",
       "11268             Trae Young  0.000     0.118689  265            10"
      ]
     },
     "execution_count": 98,
     "metadata": {},
     "output_type": "execute_result"
    }
   ],
   "source": [
    "combination.head(10)"
   ]
  },
  {
   "cell_type": "code",
   "execution_count": 99,
   "id": "0ffd8ce3",
   "metadata": {},
   "outputs": [],
   "source": [
    "def find_ap(combination):\n",
    "    actual = combination.sort_values('Share', ascending=False).head(5)\n",
    "    predicted= combination.sort_values(\"predictions\", ascending=False)\n",
    "    ps = []\n",
    "    found = 0\n",
    "    seen = 1\n",
    "    for index, row in predicted.iterrows():\n",
    "        if row[\"Player\"] in actual[\"Player\"].values:\n",
    "            found += 1\n",
    "            ps.append(found/seen)\n",
    "        seen += 1\n",
    "    return sum(ps) / len(ps)"
   ]
  },
  {
   "cell_type": "code",
   "execution_count": 100,
   "id": "03e2bf90",
   "metadata": {},
   "outputs": [
    {
     "data": {
      "text/plain": [
       "0.9428571428571428"
      ]
     },
     "execution_count": 100,
     "metadata": {},
     "output_type": "execute_result"
    }
   ],
   "source": [
    "find_ap(combination)"
   ]
  },
  {
   "cell_type": "code",
   "execution_count": 101,
   "id": "5df10a63",
   "metadata": {},
   "outputs": [],
   "source": [
    "years = list(range(1991,2021))"
   ]
  },
  {
   "cell_type": "code",
   "execution_count": 102,
   "id": "2409e0a4",
   "metadata": {},
   "outputs": [],
   "source": [
    "aps = []\n",
    "all_predictions = []\n",
    "for year in years[5:]:\n",
    "    train = stats[stats[\"Year\"] <year]\n",
    "    test = stats[stats[\"Year\"] == year]\n",
    "    reg.fit(train[predictors], train[\"Share\"])\n",
    "    predictions = reg.predict(test[predictors])\n",
    "    predictions = pd.DataFrame(predictions, columns=['predictions'], index=test.index)\n",
    "    combination = pd.concat([test[['Player','Share']], predictions], axis=1)\n",
    "    all_predictions.append(combination)\n",
    "    aps.append(find_ap(combination))"
   ]
  },
  {
   "cell_type": "code",
   "execution_count": 103,
   "id": "41796f91",
   "metadata": {},
   "outputs": [
    {
     "data": {
      "text/plain": [
       "0.7091945189766616"
      ]
     },
     "execution_count": 103,
     "metadata": {},
     "output_type": "execute_result"
    }
   ],
   "source": [
    "sum(aps) / len(aps)"
   ]
  },
  {
   "cell_type": "code",
   "execution_count": 104,
   "id": "22077592",
   "metadata": {},
   "outputs": [],
   "source": [
    "def add_ranks(combination):\n",
    "    combination = combination.sort_values('Share', ascending = False)\n",
    "    combination['Rk'] = list(range(1,combination.shape[0]+1))\n",
    "    combination = combination.sort_values('predictions', ascending = False)\n",
    "    combination['Predicted_Rk'] = list(range(1,combination.shape[0]+1))\n",
    "    combination[\"Diff\"] = combination[\"Rk\"] - combination[\"Predicted_Rk\"]\n",
    "    return combination"
   ]
  },
  {
   "cell_type": "code",
   "execution_count": 105,
   "id": "afcb811d",
   "metadata": {},
   "outputs": [
    {
     "data": {
      "text/html": [
       "<div>\n",
       "<style scoped>\n",
       "    .dataframe tbody tr th:only-of-type {\n",
       "        vertical-align: middle;\n",
       "    }\n",
       "\n",
       "    .dataframe tbody tr th {\n",
       "        vertical-align: top;\n",
       "    }\n",
       "\n",
       "    .dataframe thead th {\n",
       "        text-align: right;\n",
       "    }\n",
       "</style>\n",
       "<table border=\"1\" class=\"dataframe\">\n",
       "  <thead>\n",
       "    <tr style=\"text-align: right;\">\n",
       "      <th></th>\n",
       "      <th>Player</th>\n",
       "      <th>Share</th>\n",
       "      <th>predictions</th>\n",
       "      <th>Rk</th>\n",
       "      <th>Predicted_Rk</th>\n",
       "      <th>Diff</th>\n",
       "    </tr>\n",
       "  </thead>\n",
       "  <tbody>\n",
       "    <tr>\n",
       "      <th>1530</th>\n",
       "      <td>Karl Malone</td>\n",
       "      <td>0.857</td>\n",
       "      <td>0.192318</td>\n",
       "      <td>1</td>\n",
       "      <td>2</td>\n",
       "      <td>-1</td>\n",
       "    </tr>\n",
       "    <tr>\n",
       "      <th>10161</th>\n",
       "      <td>Michael Jordan</td>\n",
       "      <td>0.832</td>\n",
       "      <td>0.167629</td>\n",
       "      <td>2</td>\n",
       "      <td>3</td>\n",
       "      <td>-1</td>\n",
       "    </tr>\n",
       "    <tr>\n",
       "      <th>871</th>\n",
       "      <td>Grant Hill</td>\n",
       "      <td>0.327</td>\n",
       "      <td>0.128646</td>\n",
       "      <td>3</td>\n",
       "      <td>6</td>\n",
       "      <td>-3</td>\n",
       "    </tr>\n",
       "    <tr>\n",
       "      <th>4487</th>\n",
       "      <td>Tim Hardaway</td>\n",
       "      <td>0.207</td>\n",
       "      <td>0.059984</td>\n",
       "      <td>4</td>\n",
       "      <td>20</td>\n",
       "      <td>-16</td>\n",
       "    </tr>\n",
       "    <tr>\n",
       "      <th>7943</th>\n",
       "      <td>Glen Rice</td>\n",
       "      <td>0.117</td>\n",
       "      <td>0.033110</td>\n",
       "      <td>5</td>\n",
       "      <td>53</td>\n",
       "      <td>-48</td>\n",
       "    </tr>\n",
       "  </tbody>\n",
       "</table>\n",
       "</div>"
      ],
      "text/plain": [
       "               Player  Share  predictions  Rk  Predicted_Rk  Diff\n",
       "1530      Karl Malone  0.857     0.192318   1             2    -1\n",
       "10161  Michael Jordan  0.832     0.167629   2             3    -1\n",
       "871        Grant Hill  0.327     0.128646   3             6    -3\n",
       "4487     Tim Hardaway  0.207     0.059984   4            20   -16\n",
       "7943        Glen Rice  0.117     0.033110   5            53   -48"
      ]
     },
     "execution_count": 105,
     "metadata": {},
     "output_type": "execute_result"
    }
   ],
   "source": [
    "ranking = add_ranks(all_predictions[1])\n",
    "ranking[ranking[\"Rk\"] < 6].sort_values(\"Diff\", ascending =False)"
   ]
  },
  {
   "cell_type": "code",
   "execution_count": 106,
   "id": "bda4214b",
   "metadata": {},
   "outputs": [],
   "source": [
    "def backtest(stats, model, year, predictors):\n",
    "    aps = []\n",
    "    all_predictions = []\n",
    "    for year in years[5:]:\n",
    "        train = stats[stats[\"Year\"] <year]\n",
    "        test = stats[stats[\"Year\"] == year]\n",
    "        reg.fit(train[predictors], train[\"Share\"])\n",
    "        predictions = reg.predict(test[predictors])\n",
    "        predictions = pd.DataFrame(predictions, columns=['predictions'], index=test.index)\n",
    "        combination = pd.concat([test[['Player','Share']], predictions], axis=1)\n",
    "        combination = add_ranks(combination)\n",
    "        all_predictions.append(combination)\n",
    "        aps.append(find_ap(combination))\n",
    "    return sum(aps)/len(aps), aps, pd.concat(all_predictions)"
   ]
  },
  {
   "cell_type": "code",
   "execution_count": 107,
   "id": "25c52727",
   "metadata": {},
   "outputs": [],
   "source": [
    "mean_ap, aps, all_predictions = backtest(stats, reg, years[5:], predictors)"
   ]
  },
  {
   "cell_type": "code",
   "execution_count": 108,
   "id": "8261060a",
   "metadata": {},
   "outputs": [
    {
     "data": {
      "text/plain": [
       "0.7091945189766616"
      ]
     },
     "execution_count": 108,
     "metadata": {},
     "output_type": "execute_result"
    }
   ],
   "source": [
    "mean_ap"
   ]
  },
  {
   "cell_type": "code",
   "execution_count": 109,
   "id": "0b8c6b15",
   "metadata": {},
   "outputs": [
    {
     "data": {
      "text/html": [
       "<div>\n",
       "<style scoped>\n",
       "    .dataframe tbody tr th:only-of-type {\n",
       "        vertical-align: middle;\n",
       "    }\n",
       "\n",
       "    .dataframe tbody tr th {\n",
       "        vertical-align: top;\n",
       "    }\n",
       "\n",
       "    .dataframe thead th {\n",
       "        text-align: right;\n",
       "    }\n",
       "</style>\n",
       "<table border=\"1\" class=\"dataframe\">\n",
       "  <thead>\n",
       "    <tr style=\"text-align: right;\">\n",
       "      <th></th>\n",
       "      <th>Player</th>\n",
       "      <th>Share</th>\n",
       "      <th>predictions</th>\n",
       "      <th>Rk</th>\n",
       "      <th>Predicted_Rk</th>\n",
       "      <th>Diff</th>\n",
       "    </tr>\n",
       "  </thead>\n",
       "  <tbody>\n",
       "    <tr>\n",
       "      <th>1170</th>\n",
       "      <td>Jason Kidd</td>\n",
       "      <td>0.712</td>\n",
       "      <td>0.028210</td>\n",
       "      <td>2</td>\n",
       "      <td>52</td>\n",
       "      <td>-50</td>\n",
       "    </tr>\n",
       "    <tr>\n",
       "      <th>7943</th>\n",
       "      <td>Glen Rice</td>\n",
       "      <td>0.117</td>\n",
       "      <td>0.033110</td>\n",
       "      <td>5</td>\n",
       "      <td>53</td>\n",
       "      <td>-48</td>\n",
       "    </tr>\n",
       "    <tr>\n",
       "      <th>4980</th>\n",
       "      <td>Steve Nash</td>\n",
       "      <td>0.839</td>\n",
       "      <td>0.034100</td>\n",
       "      <td>1</td>\n",
       "      <td>45</td>\n",
       "      <td>-44</td>\n",
       "    </tr>\n",
       "    <tr>\n",
       "      <th>8211</th>\n",
       "      <td>Peja Stojaković</td>\n",
       "      <td>0.228</td>\n",
       "      <td>0.036270</td>\n",
       "      <td>4</td>\n",
       "      <td>38</td>\n",
       "      <td>-34</td>\n",
       "    </tr>\n",
       "    <tr>\n",
       "      <th>4998</th>\n",
       "      <td>Steve Nash</td>\n",
       "      <td>0.739</td>\n",
       "      <td>0.054129</td>\n",
       "      <td>1</td>\n",
       "      <td>34</td>\n",
       "      <td>-33</td>\n",
       "    </tr>\n",
       "    <tr>\n",
       "      <th>12241</th>\n",
       "      <td>Joakim Noah</td>\n",
       "      <td>0.258</td>\n",
       "      <td>0.046968</td>\n",
       "      <td>4</td>\n",
       "      <td>37</td>\n",
       "      <td>-33</td>\n",
       "    </tr>\n",
       "    <tr>\n",
       "      <th>3518</th>\n",
       "      <td>Chauncey Billups</td>\n",
       "      <td>0.344</td>\n",
       "      <td>0.052696</td>\n",
       "      <td>5</td>\n",
       "      <td>35</td>\n",
       "      <td>-30</td>\n",
       "    </tr>\n",
       "    <tr>\n",
       "      <th>5013</th>\n",
       "      <td>Steve Nash</td>\n",
       "      <td>0.785</td>\n",
       "      <td>0.074421</td>\n",
       "      <td>2</td>\n",
       "      <td>21</td>\n",
       "      <td>-19</td>\n",
       "    </tr>\n",
       "    <tr>\n",
       "      <th>4487</th>\n",
       "      <td>Tim Hardaway</td>\n",
       "      <td>0.207</td>\n",
       "      <td>0.059984</td>\n",
       "      <td>4</td>\n",
       "      <td>20</td>\n",
       "      <td>-16</td>\n",
       "    </tr>\n",
       "    <tr>\n",
       "      <th>10150</th>\n",
       "      <td>Scottie Pippen</td>\n",
       "      <td>0.200</td>\n",
       "      <td>0.066921</td>\n",
       "      <td>5</td>\n",
       "      <td>20</td>\n",
       "      <td>-15</td>\n",
       "    </tr>\n",
       "  </tbody>\n",
       "</table>\n",
       "</div>"
      ],
      "text/plain": [
       "                 Player  Share  predictions  Rk  Predicted_Rk  Diff\n",
       "1170         Jason Kidd  0.712     0.028210   2            52   -50\n",
       "7943          Glen Rice  0.117     0.033110   5            53   -48\n",
       "4980         Steve Nash  0.839     0.034100   1            45   -44\n",
       "8211    Peja Stojaković  0.228     0.036270   4            38   -34\n",
       "4998         Steve Nash  0.739     0.054129   1            34   -33\n",
       "12241       Joakim Noah  0.258     0.046968   4            37   -33\n",
       "3518   Chauncey Billups  0.344     0.052696   5            35   -30\n",
       "5013         Steve Nash  0.785     0.074421   2            21   -19\n",
       "4487       Tim Hardaway  0.207     0.059984   4            20   -16\n",
       "10150    Scottie Pippen  0.200     0.066921   5            20   -15"
      ]
     },
     "execution_count": 109,
     "metadata": {},
     "output_type": "execute_result"
    }
   ],
   "source": [
    "all_predictions[all_predictions[\"Rk\"] <=5].sort_values(\"Diff\").head(10)"
   ]
  },
  {
   "cell_type": "code",
   "execution_count": 110,
   "id": "d1199974",
   "metadata": {},
   "outputs": [
    {
     "data": {
      "text/html": [
       "<div>\n",
       "<style scoped>\n",
       "    .dataframe tbody tr th:only-of-type {\n",
       "        vertical-align: middle;\n",
       "    }\n",
       "\n",
       "    .dataframe tbody tr th {\n",
       "        vertical-align: top;\n",
       "    }\n",
       "\n",
       "    .dataframe thead th {\n",
       "        text-align: right;\n",
       "    }\n",
       "</style>\n",
       "<table border=\"1\" class=\"dataframe\">\n",
       "  <thead>\n",
       "    <tr style=\"text-align: right;\">\n",
       "      <th></th>\n",
       "      <th>0</th>\n",
       "      <th>1</th>\n",
       "    </tr>\n",
       "  </thead>\n",
       "  <tbody>\n",
       "    <tr>\n",
       "      <th>13</th>\n",
       "      <td>0.055322</td>\n",
       "      <td>eFG%</td>\n",
       "    </tr>\n",
       "    <tr>\n",
       "      <th>18</th>\n",
       "      <td>0.035209</td>\n",
       "      <td>DRB</td>\n",
       "    </tr>\n",
       "    <tr>\n",
       "      <th>29</th>\n",
       "      <td>0.025842</td>\n",
       "      <td>W/L%</td>\n",
       "    </tr>\n",
       "    <tr>\n",
       "      <th>17</th>\n",
       "      <td>0.022591</td>\n",
       "      <td>ORB</td>\n",
       "    </tr>\n",
       "    <tr>\n",
       "      <th>10</th>\n",
       "      <td>0.016478</td>\n",
       "      <td>2P</td>\n",
       "    </tr>\n",
       "    <tr>\n",
       "      <th>22</th>\n",
       "      <td>0.012048</td>\n",
       "      <td>BLK</td>\n",
       "    </tr>\n",
       "    <tr>\n",
       "      <th>21</th>\n",
       "      <td>0.011805</td>\n",
       "      <td>STL</td>\n",
       "    </tr>\n",
       "    <tr>\n",
       "      <th>15</th>\n",
       "      <td>0.009191</td>\n",
       "      <td>FTA</td>\n",
       "    </tr>\n",
       "    <tr>\n",
       "      <th>5</th>\n",
       "      <td>0.007608</td>\n",
       "      <td>FGA</td>\n",
       "    </tr>\n",
       "    <tr>\n",
       "      <th>20</th>\n",
       "      <td>0.007590</td>\n",
       "      <td>AST</td>\n",
       "    </tr>\n",
       "    <tr>\n",
       "      <th>4</th>\n",
       "      <td>0.007390</td>\n",
       "      <td>FG</td>\n",
       "    </tr>\n",
       "    <tr>\n",
       "      <th>7</th>\n",
       "      <td>0.006914</td>\n",
       "      <td>3P</td>\n",
       "    </tr>\n",
       "    <tr>\n",
       "      <th>25</th>\n",
       "      <td>0.005624</td>\n",
       "      <td>PTS</td>\n",
       "    </tr>\n",
       "    <tr>\n",
       "      <th>12</th>\n",
       "      <td>0.001301</td>\n",
       "      <td>2P%</td>\n",
       "    </tr>\n",
       "    <tr>\n",
       "      <th>0</th>\n",
       "      <td>0.000319</td>\n",
       "      <td>Age</td>\n",
       "    </tr>\n",
       "    <tr>\n",
       "      <th>30</th>\n",
       "      <td>0.000278</td>\n",
       "      <td>GB</td>\n",
       "    </tr>\n",
       "    <tr>\n",
       "      <th>27</th>\n",
       "      <td>0.000111</td>\n",
       "      <td>W</td>\n",
       "    </tr>\n",
       "    <tr>\n",
       "      <th>1</th>\n",
       "      <td>0.000091</td>\n",
       "      <td>G</td>\n",
       "    </tr>\n",
       "    <tr>\n",
       "      <th>2</th>\n",
       "      <td>-0.000020</td>\n",
       "      <td>GS</td>\n",
       "    </tr>\n",
       "    <tr>\n",
       "      <th>26</th>\n",
       "      <td>-0.000166</td>\n",
       "      <td>Year</td>\n",
       "    </tr>\n",
       "    <tr>\n",
       "      <th>32</th>\n",
       "      <td>-0.000301</td>\n",
       "      <td>PA/G</td>\n",
       "    </tr>\n",
       "    <tr>\n",
       "      <th>28</th>\n",
       "      <td>-0.000334</td>\n",
       "      <td>L</td>\n",
       "    </tr>\n",
       "    <tr>\n",
       "      <th>31</th>\n",
       "      <td>-0.000482</td>\n",
       "      <td>PS/G</td>\n",
       "    </tr>\n",
       "    <tr>\n",
       "      <th>33</th>\n",
       "      <td>-0.000701</td>\n",
       "      <td>SRS</td>\n",
       "    </tr>\n",
       "    <tr>\n",
       "      <th>24</th>\n",
       "      <td>-0.002694</td>\n",
       "      <td>PF</td>\n",
       "    </tr>\n",
       "    <tr>\n",
       "      <th>14</th>\n",
       "      <td>-0.003602</td>\n",
       "      <td>FT</td>\n",
       "    </tr>\n",
       "    <tr>\n",
       "      <th>3</th>\n",
       "      <td>-0.004189</td>\n",
       "      <td>MP</td>\n",
       "    </tr>\n",
       "    <tr>\n",
       "      <th>16</th>\n",
       "      <td>-0.005568</td>\n",
       "      <td>FT%</td>\n",
       "    </tr>\n",
       "    <tr>\n",
       "      <th>9</th>\n",
       "      <td>-0.009566</td>\n",
       "      <td>3P%</td>\n",
       "    </tr>\n",
       "    <tr>\n",
       "      <th>23</th>\n",
       "      <td>-0.009782</td>\n",
       "      <td>TOV</td>\n",
       "    </tr>\n",
       "    <tr>\n",
       "      <th>8</th>\n",
       "      <td>-0.013184</td>\n",
       "      <td>3PA</td>\n",
       "    </tr>\n",
       "    <tr>\n",
       "      <th>11</th>\n",
       "      <td>-0.019639</td>\n",
       "      <td>2PA</td>\n",
       "    </tr>\n",
       "    <tr>\n",
       "      <th>19</th>\n",
       "      <td>-0.027787</td>\n",
       "      <td>TRB</td>\n",
       "    </tr>\n",
       "    <tr>\n",
       "      <th>6</th>\n",
       "      <td>-0.118577</td>\n",
       "      <td>FG%</td>\n",
       "    </tr>\n",
       "  </tbody>\n",
       "</table>\n",
       "</div>"
      ],
      "text/plain": [
       "           0     1\n",
       "13  0.055322  eFG%\n",
       "18  0.035209   DRB\n",
       "29  0.025842  W/L%\n",
       "17  0.022591   ORB\n",
       "10  0.016478    2P\n",
       "22  0.012048   BLK\n",
       "21  0.011805   STL\n",
       "15  0.009191   FTA\n",
       "5   0.007608   FGA\n",
       "20  0.007590   AST\n",
       "4   0.007390    FG\n",
       "7   0.006914    3P\n",
       "25  0.005624   PTS\n",
       "12  0.001301   2P%\n",
       "0   0.000319   Age\n",
       "30  0.000278    GB\n",
       "27  0.000111     W\n",
       "1   0.000091     G\n",
       "2  -0.000020    GS\n",
       "26 -0.000166  Year\n",
       "32 -0.000301  PA/G\n",
       "28 -0.000334     L\n",
       "31 -0.000482  PS/G\n",
       "33 -0.000701   SRS\n",
       "24 -0.002694    PF\n",
       "14 -0.003602    FT\n",
       "3  -0.004189    MP\n",
       "16 -0.005568   FT%\n",
       "9  -0.009566   3P%\n",
       "23 -0.009782   TOV\n",
       "8  -0.013184   3PA\n",
       "11 -0.019639   2PA\n",
       "19 -0.027787   TRB\n",
       "6  -0.118577   FG%"
      ]
     },
     "execution_count": 110,
     "metadata": {},
     "output_type": "execute_result"
    }
   ],
   "source": [
    "pd.concat([pd.Series(reg.coef_), pd.Series(predictors)], axis=1).sort_values(0, ascending=False)"
   ]
  },
  {
   "cell_type": "code",
   "execution_count": 111,
   "id": "5b25299e",
   "metadata": {},
   "outputs": [],
   "source": [
    " stat_ratios = stats[[\"PTS\", \"AST\", \"STL\", \"BLK\", \"3P\", \"Year\"]].groupby(\"Year\").apply(lambda x: x/x.mean())"
   ]
  },
  {
   "cell_type": "code",
   "execution_count": 112,
   "id": "f4d71639",
   "metadata": {},
   "outputs": [
    {
     "data": {
      "text/html": [
       "<div>\n",
       "<style scoped>\n",
       "    .dataframe tbody tr th:only-of-type {\n",
       "        vertical-align: middle;\n",
       "    }\n",
       "\n",
       "    .dataframe tbody tr th {\n",
       "        vertical-align: top;\n",
       "    }\n",
       "\n",
       "    .dataframe thead th {\n",
       "        text-align: right;\n",
       "    }\n",
       "</style>\n",
       "<table border=\"1\" class=\"dataframe\">\n",
       "  <thead>\n",
       "    <tr style=\"text-align: right;\">\n",
       "      <th></th>\n",
       "      <th>PTS</th>\n",
       "      <th>AST</th>\n",
       "      <th>STL</th>\n",
       "      <th>BLK</th>\n",
       "      <th>3P</th>\n",
       "      <th>Year</th>\n",
       "    </tr>\n",
       "  </thead>\n",
       "  <tbody>\n",
       "    <tr>\n",
       "      <th>0</th>\n",
       "      <td>1.013334</td>\n",
       "      <td>0.420714</td>\n",
       "      <td>0.961127</td>\n",
       "      <td>0.673469</td>\n",
       "      <td>0.508587</td>\n",
       "      <td>1.0</td>\n",
       "    </tr>\n",
       "    <tr>\n",
       "      <th>1</th>\n",
       "      <td>1.614653</td>\n",
       "      <td>1.028412</td>\n",
       "      <td>1.647646</td>\n",
       "      <td>0.673469</td>\n",
       "      <td>4.577279</td>\n",
       "      <td>1.0</td>\n",
       "    </tr>\n",
       "    <tr>\n",
       "      <th>2</th>\n",
       "      <td>0.311795</td>\n",
       "      <td>0.093492</td>\n",
       "      <td>0.274608</td>\n",
       "      <td>1.571429</td>\n",
       "      <td>0.000000</td>\n",
       "      <td>1.0</td>\n",
       "    </tr>\n",
       "    <tr>\n",
       "      <th>3</th>\n",
       "      <td>0.200440</td>\n",
       "      <td>0.186984</td>\n",
       "      <td>0.274608</td>\n",
       "      <td>0.000000</td>\n",
       "      <td>0.000000</td>\n",
       "      <td>1.0</td>\n",
       "    </tr>\n",
       "    <tr>\n",
       "      <th>4</th>\n",
       "      <td>2.383005</td>\n",
       "      <td>1.636110</td>\n",
       "      <td>1.784950</td>\n",
       "      <td>0.897959</td>\n",
       "      <td>1.525760</td>\n",
       "      <td>1.0</td>\n",
       "    </tr>\n",
       "    <tr>\n",
       "      <th>...</th>\n",
       "      <td>...</td>\n",
       "      <td>...</td>\n",
       "      <td>...</td>\n",
       "      <td>...</td>\n",
       "      <td>...</td>\n",
       "      <td>...</td>\n",
       "    </tr>\n",
       "    <tr>\n",
       "      <th>13547</th>\n",
       "      <td>0.735752</td>\n",
       "      <td>0.819562</td>\n",
       "      <td>0.479763</td>\n",
       "      <td>1.528302</td>\n",
       "      <td>0.650951</td>\n",
       "      <td>1.0</td>\n",
       "    </tr>\n",
       "    <tr>\n",
       "      <th>13548</th>\n",
       "      <td>0.071202</td>\n",
       "      <td>0.000000</td>\n",
       "      <td>0.000000</td>\n",
       "      <td>0.000000</td>\n",
       "      <td>0.130190</td>\n",
       "      <td>1.0</td>\n",
       "    </tr>\n",
       "    <tr>\n",
       "      <th>13549</th>\n",
       "      <td>1.281633</td>\n",
       "      <td>0.601012</td>\n",
       "      <td>1.119447</td>\n",
       "      <td>2.547170</td>\n",
       "      <td>0.520761</td>\n",
       "      <td>1.0</td>\n",
       "    </tr>\n",
       "    <tr>\n",
       "      <th>13550</th>\n",
       "      <td>0.474679</td>\n",
       "      <td>0.218550</td>\n",
       "      <td>0.319842</td>\n",
       "      <td>1.273585</td>\n",
       "      <td>0.650951</td>\n",
       "      <td>1.0</td>\n",
       "    </tr>\n",
       "    <tr>\n",
       "      <th>13551</th>\n",
       "      <td>1.008693</td>\n",
       "      <td>0.655649</td>\n",
       "      <td>1.119447</td>\n",
       "      <td>0.509434</td>\n",
       "      <td>2.343424</td>\n",
       "      <td>1.0</td>\n",
       "    </tr>\n",
       "  </tbody>\n",
       "</table>\n",
       "<p>13552 rows × 6 columns</p>\n",
       "</div>"
      ],
      "text/plain": [
       "            PTS       AST       STL       BLK        3P  Year\n",
       "0      1.013334  0.420714  0.961127  0.673469  0.508587   1.0\n",
       "1      1.614653  1.028412  1.647646  0.673469  4.577279   1.0\n",
       "2      0.311795  0.093492  0.274608  1.571429  0.000000   1.0\n",
       "3      0.200440  0.186984  0.274608  0.000000  0.000000   1.0\n",
       "4      2.383005  1.636110  1.784950  0.897959  1.525760   1.0\n",
       "...         ...       ...       ...       ...       ...   ...\n",
       "13547  0.735752  0.819562  0.479763  1.528302  0.650951   1.0\n",
       "13548  0.071202  0.000000  0.000000  0.000000  0.130190   1.0\n",
       "13549  1.281633  0.601012  1.119447  2.547170  0.520761   1.0\n",
       "13550  0.474679  0.218550  0.319842  1.273585  0.650951   1.0\n",
       "13551  1.008693  0.655649  1.119447  0.509434  2.343424   1.0\n",
       "\n",
       "[13552 rows x 6 columns]"
      ]
     },
     "execution_count": 112,
     "metadata": {},
     "output_type": "execute_result"
    }
   ],
   "source": [
    "stat_ratios"
   ]
  },
  {
   "cell_type": "code",
   "execution_count": 113,
   "id": "ea7c2042",
   "metadata": {},
   "outputs": [],
   "source": [
    "stats[[\"PTS_T\", \"AST_R\", \"STL_R\", \"BLK_R\", \"3P_R\"]] = stat_ratios[['PTS', 'AST', 'STL', 'BLK', '3P']]"
   ]
  },
  {
   "cell_type": "code",
   "execution_count": 114,
   "id": "49b54b85",
   "metadata": {},
   "outputs": [],
   "source": [
    "predictors += [\"PTS_T\", \"AST_R\", \"STL_R\", \"BLK_R\", \"3P_R\"]"
   ]
  },
  {
   "cell_type": "code",
   "execution_count": 115,
   "id": "3a6ebf66",
   "metadata": {},
   "outputs": [],
   "source": [
    "mean_ap, aps, all_predictions = backtest(stats, reg, years[5:], predictors)"
   ]
  },
  {
   "cell_type": "code",
   "execution_count": 116,
   "id": "efd0bbcc",
   "metadata": {},
   "outputs": [
    {
     "data": {
      "text/plain": [
       "0.7180594999835173"
      ]
     },
     "execution_count": 116,
     "metadata": {},
     "output_type": "execute_result"
    }
   ],
   "source": [
    "mean_ap"
   ]
  },
  {
   "cell_type": "code",
   "execution_count": 117,
   "id": "0aa41009",
   "metadata": {},
   "outputs": [],
   "source": [
    "stats[\"NPos\"] = stats[\"Pos\"].astype(\"category\").cat.codes"
   ]
  },
  {
   "cell_type": "code",
   "execution_count": 118,
   "id": "670139ea",
   "metadata": {},
   "outputs": [],
   "source": [
    "stats[\"NTm\"] = stats[\"Tm\"].astype(\"category\").cat.codes"
   ]
  },
  {
   "cell_type": "code",
   "execution_count": 119,
   "id": "55435283",
   "metadata": {},
   "outputs": [
    {
     "data": {
      "text/plain": [
       "array(['PF', 'SG', 'SF', 'PG', 'C', 'PG-SG', 'PF-SF', 'SG-PG', 'PF-C',\n",
       "       'SG-SF', 'SF-PF', 'SF-SG', 'C-PF', 'SG-PF', 'PG-SF', 'SF-C'],\n",
       "      dtype=object)"
      ]
     },
     "execution_count": 119,
     "metadata": {},
     "output_type": "execute_result"
    }
   ],
   "source": [
    "stats[\"Pos\"].unique()"
   ]
  },
  {
   "cell_type": "code",
   "execution_count": 120,
   "id": "fce83ffd",
   "metadata": {},
   "outputs": [],
   "source": [
    "from sklearn.ensemble import RandomForestRegressor\n",
    "\n",
    "rf = RandomForestRegressor(n_estimators=50, random_state=1, min_samples_split=5)\n",
    "\n",
    "mean_ap, aps, all_predictions = backtest(stats, rf, years[28:], predictors)"
   ]
  },
  {
   "cell_type": "code",
   "execution_count": 121,
   "id": "a65fe166",
   "metadata": {},
   "outputs": [
    {
     "data": {
      "text/plain": [
       "0.7180594999835173"
      ]
     },
     "execution_count": 121,
     "metadata": {},
     "output_type": "execute_result"
    }
   ],
   "source": [
    "mean_ap"
   ]
  },
  {
   "cell_type": "code",
   "execution_count": 122,
   "id": "e8e3aaf3",
   "metadata": {},
   "outputs": [],
   "source": [
    " mean_ap, aps, all_predictions = backtest(stats, reg, years[28:], predictors)"
   ]
  },
  {
   "cell_type": "code",
   "execution_count": 75,
   "id": "7476b526",
   "metadata": {},
   "outputs": [
    {
     "data": {
      "text/plain": [
       "0.7180594999835173"
      ]
     },
     "execution_count": 75,
     "metadata": {},
     "output_type": "execute_result"
    }
   ],
   "source": [
    "mean_ap"
   ]
  },
  {
   "cell_type": "code",
   "execution_count": null,
   "id": "00034465",
   "metadata": {},
   "outputs": [],
   "source": []
  }
 ],
 "metadata": {
  "kernelspec": {
   "display_name": "Python 3 (ipykernel)",
   "language": "python",
   "name": "python3"
  },
  "language_info": {
   "codemirror_mode": {
    "name": "ipython",
    "version": 3
   },
   "file_extension": ".py",
   "mimetype": "text/x-python",
   "name": "python",
   "nbconvert_exporter": "python",
   "pygments_lexer": "ipython3",
   "version": "3.9.13"
  }
 },
 "nbformat": 4,
 "nbformat_minor": 5
}
